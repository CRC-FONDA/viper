{
 "cells": [
  {
   "cell_type": "code",
   "execution_count": null,
   "metadata": {},
   "outputs": [],
   "source": [
    "%load_ext autoreload\n",
    "%autoreload 2\n",
    "from common import *"
   ]
  },
  {
   "cell_type": "code",
   "execution_count": null,
   "metadata": {},
   "outputs": [],
   "source": [
    "RESULT_JSON = \"/Users/law/repos/viper/results/kv_size/all_kv_size.json\""
   ]
  },
  {
   "cell_type": "markdown",
   "metadata": {},
   "source": [
    "### Rename all PmemHybrid to A_PmemHybrid (capital A) to fix the sorting"
   ]
  },
  {
   "cell_type": "code",
   "execution_count": null,
   "metadata": {
    "scrolled": true
   },
   "outputs": [],
   "source": [
    "FIXTURES = [VIPER, CCEH, HYBRID_FASTER, PMEMKV]\n",
    "BM_TYPES = ['insert', 'get']\n",
    "\n",
    "BMS = get_all_runs(RESULT_JSON)\n",
    "# pprint(BMS) \n",
    "\n",
    "KV_SIZE_RE = re.compile(r\".*KeyType(\\d+),ValueType(\\d+).*\")\n",
    "\n",
    "def get_kv_size(bm_name):\n",
    "    match = KV_SIZE_RE.match(bm_name)\n",
    "    if match is None:\n",
    "        raise f\"unknown kv size: {bm_name}\"\n",
    "    return (int(match.group(1)), int(match.group(2)))\n",
    "\n",
    "RUNS = defaultdict(list)\n",
    "\n",
    "for bm in BMS:\n",
    "    for f, _ in FIXTURES:\n",
    "        if f in bm['name']:            \n",
    "            bm_type = get_bm_type(bm['name'])\n",
    "            kv_size = get_kv_size(bm['name'])\n",
    "            RUNS[(kv_size, bm_type)].append(bm)\n",
    "        \n",
    "    for _, run in RUNS.items():\n",
    "        run.sort(key=lambda x: x['name'], reverse=True) \n",
    "        \n",
    "# pprint(RUNS)"
   ]
  },
  {
   "cell_type": "code",
   "execution_count": null,
   "metadata": {},
   "outputs": [],
   "source": [
    "fig, (insert_ax, get_ax) = plt.subplots(1, 2, figsize=(10, 3))\n",
    "\n",
    "def get_bm_ax(bm_type):\n",
    "    if bm_type == 'insert': return insert_ax\n",
    "    if bm_type == 'get': return get_ax\n",
    "    raise RuntimeError(f\"Unknown bm_type {bm_type}\")\n",
    "    \n",
    "KV_SIZES = sorted({kv_size for (kv_size, _) in RUNS.keys()})\n",
    "SORTED_FIXTURES = [VIPER, CCEH, HYBRID_FASTER, PMEMKV]\n",
    "print(SORTED_FIXTURES)\n",
    "\n",
    "# Set position of bar on X axis\n",
    "bar_width = 0.15\n",
    "bar_diff = 0.02\n",
    "r1 = np.arange(len(KV_SIZES))\n",
    "r2 = [x + bar_width + bar_diff for x in r1]\n",
    "r3 = [x + bar_width + bar_diff for x in r2]\n",
    "r4 = [x + bar_width + bar_diff for x in r3]\n",
    "# r5 = [x + bar_width + bar_diff for x in r4]\n",
    "\n",
    "HATCHES = ['//', '', '\\\\\\\\', 'x']\n",
    "import matplotlib as mpl\n",
    "mpl.rcParams['hatch.linewidth'] = 2\n",
    "\n",
    "for bm_type, letter in zip(BM_TYPES, ['a', 'b']):\n",
    "    ax = get_bm_ax(bm_type)\n",
    "#     ax.set_xlabel(\"Key-Value Size\\n(#key bytes, #value bytes)\", fontsize=20)\n",
    "    ax.set_title(f\"({letter}) {bm_type.upper()}\", fontsize=22)\n",
    "\n",
    "    for i, kv_size in enumerate(KV_SIZES):\n",
    "        r = [run['items_per_second'] / MILLION for run in RUNS[(kv_size, bm_type)]]\n",
    "        for f_id, (val, pos) in enumerate(zip(r, [r1, r2, r3, r4])):\n",
    "            fixture = SORTED_FIXTURES[f_id]\n",
    "            style = STYLES[fixture[0]]\n",
    "            ax.bar(pos[i], val, bar_width, bottom=0, color='white', edgecolor=style.color, lw=2, hatch=style.hatch)\n",
    "#             ax.bar(pos[i], val, bar_width, bottom=0, color='white', edgecolor=style.color, linewidth=2, hatch=style.hatch)\n",
    "#             ax.bar(pos[i], val, bar_width, bottom=0, color=style.color, hatch=style.hatch)\n",
    "#             ax.bar(pos[i], val, bar_width, bottom=0, color=style.color)\n",
    "        ax.set_xticks([r + (1.6 * bar_width) for r in range(len(KV_SIZES))])\n",
    "        ax.set_xticklabels([f\"{ks+ vs}\" for ks, vs in KV_SIZES], fontsize=26)\n",
    "\n",
    "    ax.set_axisbelow(True)\n",
    "    ax.grid(axis='y', which='major')\n",
    "#     for tick in ax.xaxis.get_major_ticks():\n",
    "#         tick.label.set_fontsize(17)\n",
    "    for tick in ax.yaxis.get_major_ticks():\n",
    "        tick.label.set_fontsize(26)\n",
    "\n",
    "\n",
    "insert_ax.set_ylabel(\"Throughput\\n(Mops/s)\", fontsize=24)\n",
    "insert_ax.set_title(f\"(a) PUT\", fontsize=22)\n",
    "\n",
    "fig.legend(loc='upper center', labels=[f[1] for f in SORTED_FIXTURES], bbox_to_anchor=(0.503, 1.22), \n",
    "           ncol=5, frameon=False, fontsize=20, columnspacing=0.6, handletextpad=0.3)\n",
    "fig.text(0.55, -0.05, 'Key-Value Record Size in Byte', ha='center', fontsize=26)\n",
    "\n",
    "\n",
    "fig.text(0.169, 0.22, \"X\", color=STYLES[CCEH[0]].color, fontsize=20, weight='bold', family='monospace')\n",
    "fig.text(0.623, 0.22, \"X\", color=STYLES[CCEH[0]].color, fontsize=20, weight='bold', family='monospace')\n",
    "\n",
    "fig.text(0.202, 0.22, \"X\", color=STYLES[PMEMKV[0]].color, fontsize=20, weight='bold', family='monospace')\n",
    "fig.text(0.66, 0.22, \"X\", color=STYLES[PMEMKV[0]].color, fontsize=20, weight='bold', family='monospace')\n",
    "\n",
    "fig.savefig('charts/kv_size.pdf', bbox_inches='tight')\n",
    "fig.savefig('charts/kv_size.svg', bbox_inches='tight')"
   ]
  }
 ],
 "metadata": {
  "kernelspec": {
   "display_name": "Python 3",
   "language": "python",
   "name": "python3"
  },
  "language_info": {
   "codemirror_mode": {
    "name": "ipython",
    "version": 3
   },
   "file_extension": ".py",
   "mimetype": "text/x-python",
   "name": "python",
   "nbconvert_exporter": "python",
   "pygments_lexer": "ipython3",
   "version": "3.7.7"
  }
 },
 "nbformat": 4,
 "nbformat_minor": 4
}
