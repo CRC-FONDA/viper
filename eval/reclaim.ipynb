{
 "cells": [
  {
   "cell_type": "code",
   "execution_count": 1,
   "metadata": {},
   "outputs": [],
   "source": [
    "%load_ext autoreload\n",
    "%autoreload 2\n",
    "from common import *"
   ]
  },
  {
   "cell_type": "code",
   "execution_count": 2,
   "metadata": {},
   "outputs": [],
   "source": [
    "RESULT_JSON = \"/Users/law/repos/viper/results/reclaim/reclaim.json\""
   ]
  },
  {
   "cell_type": "markdown",
   "metadata": {},
   "source": [
    "### Rename all PmemHybrid to A_PmemHybrid (capital A) to fix the sorting"
   ]
  },
  {
   "cell_type": "code",
   "execution_count": 8,
   "metadata": {
    "scrolled": true
   },
   "outputs": [
    {
     "name": "stdout",
     "output_type": "stream",
     "text": [
      "{('READ', False): {'cpu_time': 57782092.588781245,\n",
      "                   'items_per_second': 22116656.965998486,\n",
      "                   'iterations': 32,\n",
      "                   'name': 'ViperFixture<std::string,std::string>/reclaim_var_READ/iterations:1/real_time/threads:32',\n",
      "                   'op_time_ms': 1913258.0,\n",
      "                   'real_time': 1868430.548230208,\n",
      "                   'repetition_index': 0,\n",
      "                   'repetitions': 0,\n",
      "                   'run_name': 'ViperFixture<std::string,std::string>/reclaim_var_READ/iterations:1/real_time/threads:32',\n",
      "                   'run_type': 'iteration',\n",
      "                   'threads': 32,\n",
      "                   'time_unit': 'us'},\n",
      " ('READ', True): {'cpu_time': 44359107.54721212,\n",
      "                  'items_per_second': 21587935.131449133,\n",
      "                  'iterations': 33,\n",
      "                  'name': 'ViperFixture<std::string,std::string>/reclaim_var_READ/iterations:1/real_time/threads:33',\n",
      "                  'op_time_ms': 1467353.0,\n",
      "                  'real_time': 1389524.7282483422,\n",
      "                  'reclaim_time_ms': 45825.0,\n",
      "                  'repetition_index': 0,\n",
      "                  'repetitions': 0,\n",
      "                  'run_name': 'ViperFixture<std::string,std::string>/reclaim_var_READ/iterations:1/real_time/threads:33',\n",
      "                  'run_type': 'iteration',\n",
      "                  'threads': 33,\n",
      "                  'time_unit': 'us'},\n",
      " ('WRITE', False): {'cpu_time': 47750114.43756249,\n",
      "                    'items_per_second': 5789012.081597983,\n",
      "                    'iterations': 32,\n",
      "                    'name': 'ViperFixture<std::string,std::string>/reclaim_var_WRITE/iterations:1/real_time/threads:32',\n",
      "                    'op_time_ms': 1581463.0,\n",
      "                    'real_time': 1544412.910869596,\n",
      "                    'repetition_index': 0,\n",
      "                    'repetitions': 0,\n",
      "                    'run_name': 'ViperFixture<std::string,std::string>/reclaim_var_WRITE/iterations:1/real_time/threads:32',\n",
      "                    'run_type': 'iteration',\n",
      "                    'threads': 32,\n",
      "                    'time_unit': 'us'},\n",
      " ('WRITE', True): {'cpu_time': 44740444.4239394,\n",
      "                   'items_per_second': 5872335.901755427,\n",
      "                   'iterations': 33,\n",
      "                   'name': 'ViperFixture<std::string,std::string>/reclaim_var_WRITE/iterations:1/real_time/threads:33',\n",
      "                   'op_time_ms': 1435154.0,\n",
      "                   'real_time': 1358965.6933482748,\n",
      "                   'reclaim_time_ms': 44742.0,\n",
      "                   'repetition_index': 0,\n",
      "                   'repetitions': 0,\n",
      "                   'run_name': 'ViperFixture<std::string,std::string>/reclaim_var_WRITE/iterations:1/real_time/threads:33',\n",
      "                   'run_type': 'iteration',\n",
      "                   'threads': 33,\n",
      "                   'time_unit': 'us'}}\n"
     ]
    }
   ],
   "source": [
    "FIXTURES = [VIPER, DRAM_MAP, HYBRID_FASTER, NVM_FASTER, PMEMKV]\n",
    "BM_TYPES = ['WRITE', 'READ']\n",
    "\n",
    "BMS = get_all_runs(RESULT_JSON)\n",
    "# pprint(BMS) \n",
    "\n",
    "BM_TYPE_RE = re.compile(r'.*reclaim_var_(.+?)/.*/threads:(\\d+)')\n",
    "\n",
    "def get_reclaim_bm_type(bm_name):\n",
    "    match = BM_TYPE_RE.match(bm_name)\n",
    "    if match is None:\n",
    "        raise RuntimeError(f\"unknown bm type: {bm_name}\")\n",
    "    return (match.group(1), int(match.group(2)) == 33)\n",
    "\n",
    "RUNS = {}\n",
    "\n",
    "for bm in BMS:\n",
    "    reclaim_bm = get_reclaim_bm_type(bm['name'])\n",
    "    RUNS[reclaim_bm] = bm\n",
    "        \n",
    "pprint(RUNS)"
   ]
  },
  {
   "cell_type": "code",
   "execution_count": 57,
   "metadata": {},
   "outputs": [
    {
     "data": {
      "image/png": "[encoded data removed]",
      "text/plain": [
       "<Figure size 288x180 with 1 Axes>"
      ]
     },
     "metadata": {
      "needs_background": "light"
     },
     "output_type": "display_data"
    }
   ],
   "source": [
    "fig, ax = plt.subplots(1, 1, figsize=(4, 2.5))\n",
    "\n",
    "# Set position of bar on X axis\n",
    "bar_width = 0.30\n",
    "bar_diff = 0.02\n",
    "r1 = np.arange(2)\n",
    "r2 = [x + bar_width + bar_diff for x in r1]\n",
    "\n",
    "HATCHES = ['//', '', '\\\\\\\\', 'x']\n",
    "\n",
    "\n",
    "write_none = RUNS[('WRITE', False)]['items_per_second'] / MILLION\n",
    "write_recl = RUNS[('WRITE',  True)]['items_per_second'] / MILLION\n",
    "read_none =  RUNS[('READ',  False)]['items_per_second'] / MILLION\n",
    "read_recl =  RUNS[('READ',   True)]['items_per_second'] / MILLION\n",
    "\n",
    "\n",
    "ax.bar(r1[0], write_none, bar_width, label=\"No reclaim\", edgecolor=COLORS[0], lw=2, hatch='//', color='white')\n",
    "ax.bar(r2[0], write_recl, bar_width, label='Reclaim', color=COLORS[3], lw=2, edgecolor=COLORS[3])\n",
    "ax.bar(r1[1], read_none, bar_width, edgecolor=COLORS[0], lw=2, hatch='//', color='white')\n",
    "ax.bar(r2[1], read_recl, bar_width, color=COLORS[3], lw=2, edgecolor=COLORS[3])\n",
    "\n",
    "\n",
    "ax.set_xticks([r + (0.5 * bar_width) for r in range(2)])\n",
    "ax.set_axisbelow(True)\n",
    "ax.grid(axis='y', which='major')\n",
    "for tick in ax.xaxis.get_major_ticks():\n",
    "    tick.label.set_fontsize(17)\n",
    "for tick in ax.yaxis.get_major_ticks():\n",
    "    tick.label.set_fontsize(22)\n",
    "\n",
    "\n",
    "ax.set_ylabel(\"Throughput\\n(Mops/s)\", fontsize=22)\n",
    "ax.set_xticklabels(['PUT', 'GET'], fontsize=22)\n",
    "\n",
    "fig.legend(loc='upper center', bbox_to_anchor=(0.5, 1.1), \n",
    "           ncol=2, frameon=False, fontsize=20, columnspacing=0.6, handletextpad=0.3)\n",
    "\n",
    "fig.savefig('charts/reclaim.pdf', bbox_inches='tight')\n",
    "fig.savefig('charts/reclaim.svg', bbox_inches='tight')"
   ]
  }
 ],
 "metadata": {
  "kernelspec": {
   "display_name": "Python 3",
   "language": "python",
   "name": "python3"
  },
  "language_info": {
   "codemirror_mode": {
    "name": "ipython",
    "version": 3
   },
   "file_extension": ".py",
   "mimetype": "text/x-python",
   "name": "python",
   "nbconvert_exporter": "python",
   "pygments_lexer": "ipython3",
   "version": "3.7.7"
  }
 },
 "nbformat": 4,
 "nbformat_minor": 4
}
