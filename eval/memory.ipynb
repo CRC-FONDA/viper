{
 "cells": [
  {
   "cell_type": "code",
   "execution_count": 1,
   "metadata": {},
   "outputs": [],
   "source": [
    "%load_ext autoreload\n",
    "%autoreload 2\n",
    "from common import *"
   ]
  },
  {
   "cell_type": "code",
   "execution_count": 234,
   "metadata": {},
   "outputs": [
    {
     "data": {
      "image/png": "[encoded data removed]",
      "text/plain": [
       "<Figure size 288x216 with 1 Axes>"
      ]
     },
     "metadata": {
      "needs_background": "light"
     },
     "output_type": "display_data"
    }
   ],
   "source": [
    "CONSUMPTION = {\n",
    "#     \"FASTER-NVM\": (22.5, 2),\n",
    "    \"FASTER\":     (17.5, 7),     \n",
    "    \"Viper\":      (25,   7),      \n",
    "    \"TBB Map\":    (0,   27),\n",
    "    \"PmemKV\":     (51.7, 0),\n",
    "}\n",
    "\n",
    "fixtures, sizes = zip(*sorted(CONSUMPTION.items(), key=lambda x: x[0], reverse=True))\n",
    "nvm, dram = zip(*sizes)\n",
    "\n",
    "ind = np.arange(len(fixtures))\n",
    "\n",
    "fig, ax = plt.subplots(1, 1, figsize=(4, 3))\n",
    "\n",
    "ax.bar(ind, nvm, edgecolor=COLORS[0], lw=2, hatch='//', color='white')\n",
    "ax.bar(ind, dram, bottom=nvm, color=COLORS[3], lw=2, edgecolor=COLORS[3])\n",
    "\n",
    "ax.set_ylim(0, 55)\n",
    "ax.set_yticks([10, 30, 50])\n",
    "ax.set_yticklabels([10,30,50], fontsize=18)\n",
    "ax.set_xticks(ind)\n",
    "ax.set_xticklabels(fixtures, fontsize=18, rotation=30)\n",
    "\n",
    "ax.set_ylabel(\"Total memory (GB)\", fontsize=18)\n",
    "fig.legend(labels=['NVM', 'DRAM'], bbox_to_anchor=(0.5, 1.1), loc='upper center',\n",
    "           ncol=2, frameon=False, fontsize=18,\n",
    "          columnspacing=1.3, handletextpad=0.3)\n",
    "\n",
    "# fig.legend(labels=['NVM', 'DRAM'], bbox_to_anchor=(0.56, 0.90), #loc='upper left',\n",
    "#            ncol=1, frameon=True, fontsize=16, fancybox=False, shadow=False,\n",
    "#            framealpha=1, borderpad=0.2)\n",
    "\n",
    "ax.set_axisbelow(True)\n",
    "ax.grid(axis='y', which='major')\n",
    "fig.savefig('charts/memory.pdf') #, bbox_inches='tight')\n",
    "fig.savefig('charts/memory.svg') #, bbox_inches='tight')"
   ]
  },
  {
   "cell_type": "code",
   "execution_count": null,
   "metadata": {},
   "outputs": [],
   "source": []
  },
  {
   "cell_type": "code",
   "execution_count": null,
   "metadata": {},
   "outputs": [],
   "source": []
  },
  {
   "cell_type": "code",
   "execution_count": null,
   "metadata": {},
   "outputs": [],
   "source": []
  }
 ],
 "metadata": {
  "kernelspec": {
   "display_name": "Python 3",
   "language": "python",
   "name": "python3"
  },
  "language_info": {
   "codemirror_mode": {
    "name": "ipython",
    "version": 3
   },
   "file_extension": ".py",
   "mimetype": "text/x-python",
   "name": "python",
   "nbconvert_exporter": "python",
   "pygments_lexer": "ipython3",
   "version": "3.7.7"
  }
 },
 "nbformat": 4,
 "nbformat_minor": 4
}
