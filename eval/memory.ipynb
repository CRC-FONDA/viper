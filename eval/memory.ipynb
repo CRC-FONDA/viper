{
 "cells": [
  {
   "cell_type": "code",
   "execution_count": null,
   "metadata": {},
   "outputs": [],
   "source": [
    "%load_ext autoreload\n",
    "%autoreload 2\n",
    "from common import *"
   ]
  },
  {
   "cell_type": "code",
   "execution_count": null,
   "metadata": {},
   "outputs": [],
   "source": [
    "CONSUMPTION = {\n",
    "    \"Viper\"    :  (22.6, 4),  \n",
    "    \"µTree\"    : (10, 10),\n",
    "    \"Dash\"     : (10, 10),\n",
    "    \"CrlStore\" : (10, 10),\n",
    "    \n",
    "    \"FASTER\"   : (16.5, 8),\n",
    "    \"PmemKV\"   : (51.7, 0),\n",
    "}\n",
    "\n",
    "fixtures, sizes = zip(*CONSUMPTION.items())\n",
    "pmem, dram = zip(*sizes)\n",
    "\n",
    "plt.rcParams.update({'hatch.color': 'white', 'hatch.linewidth': 2})\n",
    "ind = np.arange(len(fixtures))\n",
    "\n",
    "fig, ax = plt.subplots(1, 1, figsize=(3.5, 2.5))\n",
    "\n",
    "ax.bar(ind, pmem, label='PMem', color=PMEM_COLOR, lw=2, hatch='')\n",
    "ax.bar(ind, dram, bottom=pmem, label='DRAM', color=DRAM_COLOR, lw=2, hatch='')\n",
    "\n",
    "ax.set_ylim(0, 55)\n",
    "ax.set_yticks([0, 10, 20, 30, 40, 50])\n",
    "ax.set_yticklabels([0, 10, 20, 30, 40, 50], fontsize=20)\n",
    "ax.set_xticks(ind)\n",
    "ax.set_xticklabels(fixtures, fontsize=18, rotation=90)\n",
    "\n",
    "ax.set_ylabel(\"Total Memory (GB)\", fontsize=18)\n",
    "ax.yaxis.set_label_coords(-0.2, 0.3)\n",
    "\n",
    "handles, labels = ax.get_legend_handles_labels()\n",
    "fig.legend(handles[::-1], labels[::-1], bbox_to_anchor=(0.34, 0.87), loc='upper center',\n",
    "           ncol=1, frameon=True, fontsize=20, facecolor='white', framealpha=0, edgecolor='white',\n",
    "           columnspacing=0.5, handletextpad=0.3, labelspacing=0.1)\n",
    "\n",
    "ax.set_axisbelow(True)\n",
    "ax.grid(axis='y', which='both')\n",
    "hide_border(ax)\n",
    "\n",
    "fig.savefig('charts/memory.pdf', bbox_inches='tight')\n",
    "fig.savefig('charts/memory.svg', bbox_inches='tight')"
   ]
  }
 ],
 "metadata": {
  "kernelspec": {
   "display_name": "Python 3",
   "language": "python",
   "name": "python3"
  },
  "language_info": {
   "codemirror_mode": {
    "name": "ipython",
    "version": 3
   },
   "file_extension": ".py",
   "mimetype": "text/x-python",
   "name": "python",
   "nbconvert_exporter": "python",
   "pygments_lexer": "ipython3",
   "version": "3.9.1"
  }
 },
 "nbformat": 4,
 "nbformat_minor": 4
}
